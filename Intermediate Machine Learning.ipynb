{
 "cells": [
  {
   "cell_type": "markdown",
   "id": "5099201b",
   "metadata": {},
   "source": [
    "# Setup"
   ]
  },
  {
   "cell_type": "code",
   "execution_count": 26,
   "id": "609e984d",
   "metadata": {},
   "outputs": [],
   "source": [
    "import pandas as pd\n",
    "from sklearn.model_selection import train_test_split\n",
    "from sklearn.ensemble import RandomForestRegressor\n",
    "from sklearn.metrics import mean_absolute_error\n",
    "from sklearn.impute import SimpleImputer\n",
    "from sklearn.preprocessing import OrdinalEncoder"
   ]
  },
  {
   "cell_type": "markdown",
   "id": "58ebef6e",
   "metadata": {},
   "source": [
    "# Data"
   ]
  },
  {
   "cell_type": "code",
   "execution_count": 2,
   "id": "285b7ecd",
   "metadata": {},
   "outputs": [],
   "source": [
    "melb_data = pd.read_csv('melb_data.csv')"
   ]
  },
  {
   "cell_type": "markdown",
   "id": "9b1fcb48",
   "metadata": {},
   "source": [
    "# Defining target Variable and features"
   ]
  },
  {
   "cell_type": "code",
   "execution_count": 3,
   "id": "498e8261",
   "metadata": {},
   "outputs": [],
   "source": [
    "# Price column will be the target variable\n",
    "y = melb_data.Price"
   ]
  },
  {
   "cell_type": "code",
   "execution_count": 4,
   "id": "a8c9fab6",
   "metadata": {},
   "outputs": [],
   "source": [
    "# Now taking features with numeric values and dropping Price\n",
    "mel_demo = melb_data.drop(['Price'], axis=1)\n",
    "X = mel_demo.select_dtypes(exclude=['object'])"
   ]
  },
  {
   "cell_type": "markdown",
   "id": "3649b171",
   "metadata": {},
   "source": [
    "# Train and Test data"
   ]
  },
  {
   "cell_type": "code",
   "execution_count": 5,
   "id": "05f6b691",
   "metadata": {},
   "outputs": [],
   "source": [
    "X_train, X_test, y_train, y_test = train_test_split(X,y,train_size=0.8, random_state=0)"
   ]
  },
  {
   "cell_type": "code",
   "execution_count": 7,
   "id": "d628b93f",
   "metadata": {},
   "outputs": [],
   "source": [
    "# Defining a function that shows quality of each approach\n",
    "def score_data(X_train, X_test, y_train, y_test):\n",
    "    model = RandomForestRegressor(n_estimators=10, random_state=0)\n",
    "    model.fit(X_train, y_train)\n",
    "    y_pred = model.predict(X_test)\n",
    "    return mean_absolute_error(y_test, y_pred)"
   ]
  },
  {
   "cell_type": "markdown",
   "id": "150e672b",
   "metadata": {},
   "source": [
    "# Approach 1"
   ]
  },
  {
   "cell_type": "markdown",
   "id": "32f0c593",
   "metadata": {},
   "source": [
    "## removing null columns"
   ]
  },
  {
   "cell_type": "code",
   "execution_count": 8,
   "id": "ed81c17f",
   "metadata": {},
   "outputs": [
    {
     "name": "stdout",
     "output_type": "stream",
     "text": [
      "MAE with first aprroach\n",
      "183550.22137772635\n"
     ]
    }
   ],
   "source": [
    "# using the data after removing null values\n",
    "col_null=[col for col in X_train.columns if X_train[col].isnull().any()]\n",
    "\n",
    "# dropping those columns in train and test data\n",
    "modi_X_train = X_train.drop(col_null, axis=1)\n",
    "modi_X_test = X_test.drop(col_null, axis=1)\n",
    "\n",
    "# now calling the function\n",
    "print('MAE with first aprroach')\n",
    "print(score_data(modi_X_train, modi_X_test, y_train, y_test))"
   ]
  },
  {
   "cell_type": "markdown",
   "id": "19e342c6",
   "metadata": {},
   "source": [
    "# Approach 2"
   ]
  },
  {
   "cell_type": "markdown",
   "id": "0f61a036",
   "metadata": {},
   "source": [
    "## Imputation"
   ]
  },
  {
   "cell_type": "code",
   "execution_count": 10,
   "id": "626df792",
   "metadata": {},
   "outputs": [
    {
     "name": "stdout",
     "output_type": "stream",
     "text": [
      "MAE with Imputation(Approach 2)\n",
      "179816.89508731329\n"
     ]
    }
   ],
   "source": [
    "# definin imputer\n",
    "imputer = SimpleImputer()\n",
    "\n",
    "# applying imputation to train and test data\n",
    "imputed_X_train = pd.DataFrame(imputer.fit_transform(X_train))\n",
    "imputed_X_test = pd.DataFrame(imputer.fit_transform(X_test))\n",
    "\n",
    "# adding columns removed by imputation\n",
    "imputed_X_train.columns = X_train.columns\n",
    "imputed_X_test.columns = X_test.columns\n",
    "\n",
    "c"
   ]
  },
  {
   "cell_type": "markdown",
   "id": "8476b6bb",
   "metadata": {},
   "source": [
    "# Approach 3"
   ]
  },
  {
   "cell_type": "markdown",
   "id": "bc846991",
   "metadata": {},
   "source": [
    "## Extension to Imputation"
   ]
  },
  {
   "cell_type": "code",
   "execution_count": 12,
   "id": "457e52e5",
   "metadata": {},
   "outputs": [
    {
     "name": "stdout",
     "output_type": "stream",
     "text": [
      "MAE with Extension toImputation(Approach 3)\n",
      "179986.2708570026\n"
     ]
    }
   ],
   "source": [
    "# making copy of the original data\n",
    "X_train_plus = X_train.copy()\n",
    "X_test_plus = X_test.copy()\n",
    "\n",
    "# adding columns to indicate imputed data\n",
    "for col in col_null:\n",
    "    X_train_plus[col + '_missing'] = X_train_plus[col].isnull()\n",
    "    X_test_plus[col + '_missing'] = X_test_plus[col].isnull()\n",
    "    \n",
    "# imputer\n",
    "imputer = SimpleImputer()\n",
    "\n",
    "#applying\n",
    "imputed_X_train_plus = pd.DataFrame(imputer.fit_transform(X_train_plus))\n",
    "imputed_X_test_plus = pd.DataFrame(imputer.fit_transform(X_test_plus))\n",
    "\n",
    "# adding columns removed by imputation\n",
    "imputed_X_train_plus.columns = X_train_plus.columns\n",
    "imputed_X_test_plus.columns = X_test_plus.columns\n",
    "\n",
    "# printing the results using this approach\n",
    "print(\"MAE with Extension toImputation(Approach 3)\")\n",
    "print(score_data(imputed_X_train_plus, imputed_X_test_plus, y_train, y_test))\n",
    "\n"
   ]
  },
  {
   "cell_type": "markdown",
   "id": "a0971cec",
   "metadata": {},
   "source": [
    "# Categorical Variables"
   ]
  },
  {
   "cell_type": "code",
   "execution_count": 13,
   "id": "9c8076f2",
   "metadata": {},
   "outputs": [],
   "source": [
    "# new features including categorical values\n",
    "X_new = melb_data.drop(['Price'], axis=1)"
   ]
  },
  {
   "cell_type": "code",
   "execution_count": 14,
   "id": "a35cf620",
   "metadata": {},
   "outputs": [],
   "source": [
    "# Train and Test\n",
    "X2_train, X2_test, y_train,y_test = train_test_split(X_new, y, test_size=0.2, random_state=0)\n"
   ]
  },
  {
   "cell_type": "code",
   "execution_count": 15,
   "id": "c0584acc",
   "metadata": {},
   "outputs": [],
   "source": [
    "# dropping columns with missing values\n",
    "col_miss  = [col for col in X2_train.columns if X2_train[col].isnull().any()]\n",
    "X2_train.drop(col_miss, axis=1, inplace=True)\n",
    "X2_test.drop(col_miss, axis=1, inplace=True)"
   ]
  },
  {
   "cell_type": "code",
   "execution_count": 17,
   "id": "e2c0eb4c",
   "metadata": {},
   "outputs": [],
   "source": [
    "# selecting low number of unique values in a object column\n",
    "low_card = [cname for cname in X2_train.columns if X2_train[cname].nunique()<10\n",
    "           and X2_train[cname].dtype == 'object']\n",
    "\n",
    "# selecting low number of unique values in a numeric column\n",
    "num_cols = [cname for cname in X2_train.columns \n",
    "            if X2_train[cname].dtype in ['int64', 'float64']]\n",
    "\n",
    "# keeping low cardinality and numerical columns only\n",
    "keep_cols = low_card + num_cols\n",
    "X_new_train = X2_train[keep_cols].copy()\n",
    "X_new_test = X2_test[keep_cols].copy()"
   ]
  },
  {
   "cell_type": "code",
   "execution_count": 18,
   "id": "d55eb4f9",
   "metadata": {},
   "outputs": [
    {
     "data": {
      "text/html": [
       "<div>\n",
       "<style scoped>\n",
       "    .dataframe tbody tr th:only-of-type {\n",
       "        vertical-align: middle;\n",
       "    }\n",
       "\n",
       "    .dataframe tbody tr th {\n",
       "        vertical-align: top;\n",
       "    }\n",
       "\n",
       "    .dataframe thead th {\n",
       "        text-align: right;\n",
       "    }\n",
       "</style>\n",
       "<table border=\"1\" class=\"dataframe\">\n",
       "  <thead>\n",
       "    <tr style=\"text-align: right;\">\n",
       "      <th></th>\n",
       "      <th>Type</th>\n",
       "      <th>Method</th>\n",
       "      <th>Regionname</th>\n",
       "      <th>Rooms</th>\n",
       "      <th>Distance</th>\n",
       "      <th>Postcode</th>\n",
       "      <th>Bedroom2</th>\n",
       "      <th>Bathroom</th>\n",
       "      <th>Landsize</th>\n",
       "      <th>Lattitude</th>\n",
       "      <th>Longtitude</th>\n",
       "      <th>Propertycount</th>\n",
       "    </tr>\n",
       "  </thead>\n",
       "  <tbody>\n",
       "    <tr>\n",
       "      <th>12167</th>\n",
       "      <td>u</td>\n",
       "      <td>S</td>\n",
       "      <td>Southern Metropolitan</td>\n",
       "      <td>1</td>\n",
       "      <td>5.0</td>\n",
       "      <td>3182.0</td>\n",
       "      <td>1.0</td>\n",
       "      <td>1.0</td>\n",
       "      <td>0.0</td>\n",
       "      <td>-37.85984</td>\n",
       "      <td>144.98670</td>\n",
       "      <td>13240.0</td>\n",
       "    </tr>\n",
       "    <tr>\n",
       "      <th>6524</th>\n",
       "      <td>h</td>\n",
       "      <td>SA</td>\n",
       "      <td>Western Metropolitan</td>\n",
       "      <td>2</td>\n",
       "      <td>8.0</td>\n",
       "      <td>3016.0</td>\n",
       "      <td>2.0</td>\n",
       "      <td>2.0</td>\n",
       "      <td>193.0</td>\n",
       "      <td>-37.85800</td>\n",
       "      <td>144.90050</td>\n",
       "      <td>6380.0</td>\n",
       "    </tr>\n",
       "    <tr>\n",
       "      <th>8413</th>\n",
       "      <td>h</td>\n",
       "      <td>S</td>\n",
       "      <td>Western Metropolitan</td>\n",
       "      <td>3</td>\n",
       "      <td>12.6</td>\n",
       "      <td>3020.0</td>\n",
       "      <td>3.0</td>\n",
       "      <td>1.0</td>\n",
       "      <td>555.0</td>\n",
       "      <td>-37.79880</td>\n",
       "      <td>144.82200</td>\n",
       "      <td>3755.0</td>\n",
       "    </tr>\n",
       "    <tr>\n",
       "      <th>2919</th>\n",
       "      <td>u</td>\n",
       "      <td>SP</td>\n",
       "      <td>Northern Metropolitan</td>\n",
       "      <td>3</td>\n",
       "      <td>13.0</td>\n",
       "      <td>3046.0</td>\n",
       "      <td>3.0</td>\n",
       "      <td>1.0</td>\n",
       "      <td>265.0</td>\n",
       "      <td>-37.70830</td>\n",
       "      <td>144.91580</td>\n",
       "      <td>8870.0</td>\n",
       "    </tr>\n",
       "    <tr>\n",
       "      <th>6043</th>\n",
       "      <td>h</td>\n",
       "      <td>S</td>\n",
       "      <td>Western Metropolitan</td>\n",
       "      <td>3</td>\n",
       "      <td>13.3</td>\n",
       "      <td>3020.0</td>\n",
       "      <td>3.0</td>\n",
       "      <td>1.0</td>\n",
       "      <td>673.0</td>\n",
       "      <td>-37.76230</td>\n",
       "      <td>144.82720</td>\n",
       "      <td>4217.0</td>\n",
       "    </tr>\n",
       "    <tr>\n",
       "      <th>...</th>\n",
       "      <td>...</td>\n",
       "      <td>...</td>\n",
       "      <td>...</td>\n",
       "      <td>...</td>\n",
       "      <td>...</td>\n",
       "      <td>...</td>\n",
       "      <td>...</td>\n",
       "      <td>...</td>\n",
       "      <td>...</td>\n",
       "      <td>...</td>\n",
       "      <td>...</td>\n",
       "      <td>...</td>\n",
       "    </tr>\n",
       "    <tr>\n",
       "      <th>13123</th>\n",
       "      <td>h</td>\n",
       "      <td>SP</td>\n",
       "      <td>Northern Metropolitan</td>\n",
       "      <td>3</td>\n",
       "      <td>5.2</td>\n",
       "      <td>3056.0</td>\n",
       "      <td>3.0</td>\n",
       "      <td>1.0</td>\n",
       "      <td>212.0</td>\n",
       "      <td>-37.77695</td>\n",
       "      <td>144.95785</td>\n",
       "      <td>11918.0</td>\n",
       "    </tr>\n",
       "    <tr>\n",
       "      <th>3264</th>\n",
       "      <td>h</td>\n",
       "      <td>S</td>\n",
       "      <td>Eastern Metropolitan</td>\n",
       "      <td>3</td>\n",
       "      <td>10.5</td>\n",
       "      <td>3081.0</td>\n",
       "      <td>3.0</td>\n",
       "      <td>1.0</td>\n",
       "      <td>748.0</td>\n",
       "      <td>-37.74160</td>\n",
       "      <td>145.04810</td>\n",
       "      <td>2947.0</td>\n",
       "    </tr>\n",
       "    <tr>\n",
       "      <th>9845</th>\n",
       "      <td>h</td>\n",
       "      <td>PI</td>\n",
       "      <td>Northern Metropolitan</td>\n",
       "      <td>4</td>\n",
       "      <td>6.7</td>\n",
       "      <td>3058.0</td>\n",
       "      <td>4.0</td>\n",
       "      <td>2.0</td>\n",
       "      <td>441.0</td>\n",
       "      <td>-37.73572</td>\n",
       "      <td>144.97256</td>\n",
       "      <td>11204.0</td>\n",
       "    </tr>\n",
       "    <tr>\n",
       "      <th>10799</th>\n",
       "      <td>h</td>\n",
       "      <td>S</td>\n",
       "      <td>Northern Metropolitan</td>\n",
       "      <td>3</td>\n",
       "      <td>12.0</td>\n",
       "      <td>3073.0</td>\n",
       "      <td>3.0</td>\n",
       "      <td>1.0</td>\n",
       "      <td>606.0</td>\n",
       "      <td>-37.72057</td>\n",
       "      <td>145.02615</td>\n",
       "      <td>21650.0</td>\n",
       "    </tr>\n",
       "    <tr>\n",
       "      <th>2732</th>\n",
       "      <td>h</td>\n",
       "      <td>SP</td>\n",
       "      <td>Western Metropolitan</td>\n",
       "      <td>4</td>\n",
       "      <td>6.4</td>\n",
       "      <td>3011.0</td>\n",
       "      <td>4.0</td>\n",
       "      <td>2.0</td>\n",
       "      <td>319.0</td>\n",
       "      <td>-37.79430</td>\n",
       "      <td>144.88750</td>\n",
       "      <td>7570.0</td>\n",
       "    </tr>\n",
       "  </tbody>\n",
       "</table>\n",
       "<p>10864 rows × 12 columns</p>\n",
       "</div>"
      ],
      "text/plain": [
       "      Type Method             Regionname  Rooms  Distance  Postcode  Bedroom2  \\\n",
       "12167    u      S  Southern Metropolitan      1       5.0    3182.0       1.0   \n",
       "6524     h     SA   Western Metropolitan      2       8.0    3016.0       2.0   \n",
       "8413     h      S   Western Metropolitan      3      12.6    3020.0       3.0   \n",
       "2919     u     SP  Northern Metropolitan      3      13.0    3046.0       3.0   \n",
       "6043     h      S   Western Metropolitan      3      13.3    3020.0       3.0   \n",
       "...    ...    ...                    ...    ...       ...       ...       ...   \n",
       "13123    h     SP  Northern Metropolitan      3       5.2    3056.0       3.0   \n",
       "3264     h      S   Eastern Metropolitan      3      10.5    3081.0       3.0   \n",
       "9845     h     PI  Northern Metropolitan      4       6.7    3058.0       4.0   \n",
       "10799    h      S  Northern Metropolitan      3      12.0    3073.0       3.0   \n",
       "2732     h     SP   Western Metropolitan      4       6.4    3011.0       4.0   \n",
       "\n",
       "       Bathroom  Landsize  Lattitude  Longtitude  Propertycount  \n",
       "12167       1.0       0.0  -37.85984   144.98670        13240.0  \n",
       "6524        2.0     193.0  -37.85800   144.90050         6380.0  \n",
       "8413        1.0     555.0  -37.79880   144.82200         3755.0  \n",
       "2919        1.0     265.0  -37.70830   144.91580         8870.0  \n",
       "6043        1.0     673.0  -37.76230   144.82720         4217.0  \n",
       "...         ...       ...        ...         ...            ...  \n",
       "13123       1.0     212.0  -37.77695   144.95785        11918.0  \n",
       "3264        1.0     748.0  -37.74160   145.04810         2947.0  \n",
       "9845        2.0     441.0  -37.73572   144.97256        11204.0  \n",
       "10799       1.0     606.0  -37.72057   145.02615        21650.0  \n",
       "2732        2.0     319.0  -37.79430   144.88750         7570.0  \n",
       "\n",
       "[10864 rows x 12 columns]"
      ]
     },
     "execution_count": 18,
     "metadata": {},
     "output_type": "execute_result"
    }
   ],
   "source": [
    "X_new_train"
   ]
  },
  {
   "cell_type": "code",
   "execution_count": 21,
   "id": "c9030d1e",
   "metadata": {},
   "outputs": [
    {
     "name": "stdout",
     "output_type": "stream",
     "text": [
      "Categorical variables are:\n",
      "['Type', 'Method', 'Regionname']\n"
     ]
    }
   ],
   "source": [
    "# getting list of categorical vars\n",
    "obj  = (X_new_train.dtypes == 'object')\n",
    "cat_vars = list(obj[obj].index)\n",
    "\n",
    "print('Categorical variables are:')\n",
    "print(cat_vars)"
   ]
  },
  {
   "cell_type": "markdown",
   "id": "52f3f23a",
   "metadata": {},
   "source": [
    "# Categorical data approaches\n"
   ]
  },
  {
   "cell_type": "markdown",
   "id": "3d5ba215",
   "metadata": {},
   "source": [
    "## Approach 1 (removing categorical values)"
   ]
  },
  {
   "cell_type": "code",
   "execution_count": 24,
   "id": "98c0554f",
   "metadata": {},
   "outputs": [],
   "source": [
    "# defining a function\n",
    "def score_dataset(X_train, X_test, y_train, y_test):\n",
    "    model = RandomForestRegressor(n_estimators=100, random_state=0)\n",
    "    model.fit(X_train, y_train)\n",
    "    y_preds = model.predict(X_test)\n",
    "    return mean_absolute_error(y_test, y_preds)"
   ]
  },
  {
   "cell_type": "code",
   "execution_count": 25,
   "id": "57131d83",
   "metadata": {},
   "outputs": [
    {
     "name": "stdout",
     "output_type": "stream",
     "text": [
      "MAE after dropping categorical values\n",
      "175703.48185157913\n"
     ]
    }
   ],
   "source": [
    "# dropping categorical columns\n",
    "drop_X_new_train = X_new_train.select_dtypes(exclude=['object'])\n",
    "drop_X_new_test = X_new_test.select_dtypes(exclude=['object'])\n",
    "\n",
    "# printing the result\n",
    "print('MAE after dropping categorical values')\n",
    "print(score_dataset(drop_X_new_train, drop_X_new_test, y_train, y_test))"
   ]
  },
  {
   "cell_type": "markdown",
   "id": "a8f8138d",
   "metadata": {},
   "source": [
    "## Approach 2 (ordinal Encoding the categorical values)"
   ]
  },
  {
   "cell_type": "code",
   "execution_count": 27,
   "id": "92b5418b",
   "metadata": {},
   "outputs": [
    {
     "name": "stdout",
     "output_type": "stream",
     "text": [
      "MAE after ordinal encoding categorical values\n",
      "165936.40548390493\n"
     ]
    }
   ],
   "source": [
    "# copying th values\n",
    "label_X_train = X_new_train.copy()\n",
    "label_X_test = X_new_test.copy()\n",
    "\n",
    "# defining encoder\n",
    "ordinal_encoder = OrdinalEncoder()\n",
    "label_X_train[cat_vars] = ordinal_encoder.fit_transform(X_new_train[cat_vars])\n",
    "label_X_test[cat_vars] = ordinal_encoder.fit_transform(X_new_test[cat_vars])\n",
    "\n",
    "#printing the result\n",
    "print('MAE after ordinal encoding categorical values')\n",
    "print(score_dataset(label_X_train, label_X_test, y_train, y_test))\n",
    "\n"
   ]
  },
  {
   "cell_type": "code",
   "execution_count": null,
   "id": "771f3ac4",
   "metadata": {},
   "outputs": [],
   "source": []
  }
 ],
 "metadata": {
  "kernelspec": {
   "display_name": "Python 3 (ipykernel)",
   "language": "python",
   "name": "python3"
  },
  "language_info": {
   "codemirror_mode": {
    "name": "ipython",
    "version": 3
   },
   "file_extension": ".py",
   "mimetype": "text/x-python",
   "name": "python",
   "nbconvert_exporter": "python",
   "pygments_lexer": "ipython3",
   "version": "3.10.0"
  }
 },
 "nbformat": 4,
 "nbformat_minor": 5
}
